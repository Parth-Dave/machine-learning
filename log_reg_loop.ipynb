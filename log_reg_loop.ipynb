{
 "cells": [
  {
   "cell_type": "code",
   "execution_count": null,
   "metadata": {
    "collapsed": true
   },
   "outputs": [],
   "source": [
    "import math\n",
    "import random\n",
    "import matplotlib.pyplot as plt\n",
    "def calc_ans(theta1,theta2,var):\n",
    "    return float(math.fabs(1/(1+math.exp(theta1+(theta2*float(var))))))"
   ]
  },
  {
   "cell_type": "code",
   "execution_count": 60,
   "metadata": {},
   "outputs": [
    {
     "name": "stdout",
     "output_type": "stream",
     "text": [
      "[0.0, 0.0, 0.0, 0.0, 0.0, 0.0, 0.0, 0.0, 0.0, 0.0, 0.0, 0.0, 0.0, 0.0, 0.0, 0.0, 0.0, 0.0, 0.0, 0.0, 0.0, 0.0, 0.0, 0.0, 0.0, 0.0, 0.0, 0.0, 0.0, 0.0, 0.0, 0.0, 0.0, 0.0, 0.0, 0.0, 0.0, 0.0, 0.0, 0.0, 0.0, 0.0, 0.0, 0.0, 0.0, 0.0, 0.0, 0.0, 0.0, 0.0, 1.0, 1.0, 1.0, 1.0, 1.0, 1.0, 1.0, 1.0, 1.0, 1.0, 1.0, 1.0, 1.0, 1.0, 1.0, 1.0, 1.0, 1.0, 1.0, 1.0, 1.0, 1.0, 1.0, 1.0, 1.0, 1.0, 1.0, 1.0, 1.0, 1.0, 1.0, 1.0, 1.0, 1.0, 1.0, 1.0, 1.0, 1.0, 1.0, 1.0, 1.0, 1.0, 1.0, 1.0, 1.0, 1.0, 1.0, 1.0, 1.0, 1.0]\n"
     ]
    }
   ],
   "source": [
    "x=(float(i) for i in range(100))\n",
    "y=(0.0 for i in range(50))\n",
    "y2=(1.0 for i in range(50))\n",
    "y=list(y)\n",
    "y2=list(y2)\n",
    "x=list(x)\n",
    "y=y+y2\n",
    "print(y)\n",
    "for i in range(0,100,7):\n",
    "    y[i]=0\n",
    "    \n",
    "\n"
   ]
  },
  {
   "cell_type": "code",
   "execution_count": 61,
   "metadata": {},
   "outputs": [],
   "source": [
    "def cost_func(y1,htheta):\n",
    "    htheta=math.fabs(htheta)\n",
    "    htheta1=math.fabs(1-htheta)\n",
    "    return (-y1*math.log(htheta)-(1-y1)*math.log(htheta1))\n",
    "    "
   ]
  },
  {
   "cell_type": "code",
   "execution_count": 80,
   "metadata": {},
   "outputs": [
    {
     "name": "stdout",
     "output_type": "stream",
     "text": [
      "3.456797695386335\n",
      "0.49236665220352427\n",
      "0.36258771285750985\n",
      "0.2993308505888439\n",
      "0.26924444638727596\n",
      "0.24690423520698876\n",
      "0.22960073368389242\n",
      "0.21575046415548366\n",
      "0.20437160777295393\n",
      "0.1948245541268549\n",
      "0.1866750756695735\n",
      "0.17961797957778472\n",
      "0.17343236650221805\n",
      "0.16795427694844692\n",
      "0.16305934247839665\n",
      "0.1586514246000725\n",
      "0.1546549631126704\n",
      "0.15100969362846842\n",
      "0.14766691971805182\n",
      "0.1445868300686059\n",
      "0.14173653343874407\n",
      "0.13908859634026383\n",
      "0.13661993907183886\n",
      "0.1343109913117017\n",
      "0.13214503847681502\n",
      "0.13010771017533196\n",
      "0.12818657580601436\n",
      "0.1263708218730864\n",
      "0.12465099227719369\n",
      "0.12301877761403195\n",
      "0.12146684295627237\n",
      "0.11998868610979707\n",
      "0.11857852019241553\n",
      "0.11723117576841931\n",
      "0.11594201881534481\n",
      "0.1147068815917179\n",
      "0.11352200408162637\n",
      "0.11238398416074206\n",
      "0.1112897349931073\n",
      "0.11023644845372353\n",
      "0.10922156359731408\n",
      "0.10824273937249329\n",
      "0.10729783092337736\n",
      "0.10638486893533737\n",
      "0.1055020415741852\n",
      "0.10464767864321406\n",
      "0.10382023764378437\n",
      "0.10301829147536044\n",
      "0.10224051755222044\n",
      "0.10148568814822148\n"
     ]
    },
    {
     "data": {
      "image/png": "[encoded data removed]",
      "text/plain": [
       "<matplotlib.figure.Figure at 0x7f3bf202cbe0>"
      ]
     },
     "metadata": {},
     "output_type": "display_data"
    }
   ],
   "source": [
    "learnrate=.005\n",
    "theta1=random.random()\n",
    "theta2=random.random()\n",
    "for j in range(50000):\n",
    "    theta1_sum=0\n",
    "    theta2_sum=0\n",
    "    cost_arr=[]\n",
    "    cost=0\n",
    "    for i in range(100):\n",
    "        x1=float(x[i])\n",
    "        hth=float(calc_ans(theta1,theta2,x1))\n",
    "        \n",
    "        theta1_sum=theta1_sum-(hth-float(y[i]))\n",
    "        theta2_sum=theta2_sum-x1*(hth-float(y[i]))\n",
    "        cost=cost+cost_func(float(y[i]),hth)\n",
    "    \n",
    "    if(j%1000==0):\n",
    "        print(cost*.01)\n",
    "\n",
    "    cost_arr.append(cost*.01)\n",
    "    theta1=theta1-(theta1_sum*.01*learnrate)\n",
    "    theta2=theta2-(theta2_sum*.01*learnrate)\n",
    "\n",
    "plt.plot(cost_arr)\n",
    "plt.axis([0,60,0,20])\n",
    "plt.show()"
   ]
  },
  {
   "cell_type": "code",
   "execution_count": null,
   "metadata": {},
   "outputs": [],
   "source": [
    "print(\"theta1= \")\n",
    "print(theta1)\n",
    "print(\"theta2= \")\n",
    "print(theta2)\n",
    "check=input(\"Enter a no.\")\n",
    "if(calc_ans(theta1,theta2,check)>.5):\n",
    "    output=1\n",
    "else:\n",
    "    output=0\n",
    "print(output)"
   ]
  },
  {
   "cell_type": "code",
   "execution_count": null,
   "metadata": {
    "collapsed": true
   },
   "outputs": [],
   "source": []
  },
  {
   "cell_type": "code",
   "execution_count": null,
   "metadata": {
    "collapsed": true
   },
   "outputs": [],
   "source": []
  },
  {
   "cell_type": "code",
   "execution_count": null,
   "metadata": {
    "collapsed": true
   },
   "outputs": [],
   "source": []
  },
  {
   "cell_type": "code",
   "execution_count": null,
   "metadata": {
    "collapsed": true
   },
   "outputs": [],
   "source": []
  }
 ],
 "metadata": {
  "kernelspec": {
   "display_name": "Python 3",
   "language": "python",
   "name": "python3"
  },
  "language_info": {
   "codemirror_mode": {
    "name": "ipython",
    "version": 3
   },
   "file_extension": ".py",
   "mimetype": "text/x-python",
   "name": "python",
   "nbconvert_exporter": "python",
   "pygments_lexer": "ipython3",
   "version": "3.6.1"
  }
 },
 "nbformat": 4,
 "nbformat_minor": 2
}
